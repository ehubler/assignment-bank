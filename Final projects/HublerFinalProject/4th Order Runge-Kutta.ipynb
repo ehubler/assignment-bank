{
 "metadata": {
  "name": "",
  "signature": "sha256:bb01489c8e0d1a1415475fe5fd36d6f9f52cafa819ca770d1ba89860ac828f81"
 },
 "nbformat": 3,
 "nbformat_minor": 0,
 "worksheets": [
  {
   "cells": [
    {
     "cell_type": "markdown",
     "metadata": {},
     "source": [
      "Content under Creative Commons Attribution license CC-BY 4.0, Elizabeth Hubler for Professor L.A. Barba's MAE 6286 course at The George Washington University. Some adaptations from numericalmooc which is also under CC-BY."
     ]
    },
    {
     "cell_type": "heading",
     "level": 1,
     "metadata": {},
     "source": [
      "Runge-Kutta Methods"
     ]
    },
    {
     "cell_type": "heading",
     "level": 3,
     "metadata": {},
     "source": [
      "Welcome back!"
     ]
    },
    {
     "cell_type": "markdown",
     "metadata": {},
     "source": [
      "In our last module, we showed a screencast which used a Taylor series expansion to show that Euler's method incurs a first order truncation error. \n",
      "\n",
      "Now, we are going to take this a step further and explore another important family of iterative methods which are used to discretize ordinary differential equations: the Runge-Kutta Methods.  \n",
      "\n",
      "Runge-Kutta methods look similar to Euler's method, in fact we computed the motion of a flider using a second-order Runge-Kutta.\n",
      "\n",
      "In this bonus notebook, we will dig deeper into a fourth-oder Runge-Kutta method which is often preferred for computer applications since it yields higher accuracy with less computational effort."
     ]
    },
    {
     "cell_type": "heading",
     "level": 3,
     "metadata": {},
     "source": [
      "Let's get started! "
     ]
    },
    {
     "cell_type": "markdown",
     "metadata": {},
     "source": [
      "First, we will look at the math behind a fourth-order Runge-Kutta. \n",
      "\n",
      "Let \\frac{dy}{dx}=f(x,y)\n",
      "\n",
      "with initial conditions y(0)=y_{0}\n",
      "\n",
      "We want to find the dependent variable y as a function of x numerically. \n",
      "\n",
      "A fourth-oder Runge-Kutta is based on the first five terms of the Taylor series expansion: \n",
      "\n",
      "{y_{i+1}} = {y_{i}} + \\frac{\\mathrm{d} }{\\mathrm{d} x}|_{x_{i}y_{i}}(x_{i+1}-x_{i})+\\frac{1}{2!}\\frac{d^{2}y}{dx^{2}}|_{x_{i}y_{i}}(x_{i+1}-x_{i})^{2}+\\frac{1}{3!}\\frac{d^{3}y}{dx^{3}}|_{x_{i}y_{i}}(x_{i+1}-x_{i})^{3}+\\frac{1}{4!}\\frac{d^{4}y}{dx^{4}}|_{x_{i}y_{i}}(x_{i+1}-x_{i})^{4}+0(x_{i+1}-x_{i})^{5}\n",
      "\n",
      "Since we stated earlier that \\frac{dy}{dx}=f(x,y), we can substitute this value of f in for \\frac{dy}{dx}:\n",
      "y_{i+1}=y_{i}+f(x_{i},y_{i})h+\\frac{1}{2!}f'(x_{i},y_{i})h^{2}+\\frac{1}{3!}f''(x_{i},y_{i})h^{3}+\\frac{1}{4!}f'''(x_{i},y{i})h^{4}\n",
      "\n",
      "From here, Runge-Kutta assumed a formula to be of the following form: \n",
      "y_{i+1}=y_{i}+(a_{1}k_{1}+a_{2}k_{2}+a_{3}k_{3}+a_{4}k_{4})h\n",
      "\n",
      "Comparing these last two equations, Runge-Kutta developed something known as the RK4 Method which is commonly used and accepted today: \n",
      "y_{i+1}=y_{i}+\\frac{1}{6}(k_{1}+2k_{2}+2k_{3}+k_{4})h\n",
      "where, \n",
      "k_{1}=f(x_{i},y_{i})\n",
      "k_{2}=f(x_{i}+\\frac{1}{2}h,y_{i}+\\frac{1}{2}k_{1}h)\n",
      "k_{3}=f(x_{i}+\\frac{1}{2}h,y_{i}+\\frac{1}{2}k_{2}h)\n",
      "k_{4}=f(x_{i}+h,y_{i}+k_{3}h)\n",
      "\n",
      "Although there are an infinite number of possible Runge-Kutta methods depending on what values are chosen, the RK4 Method is what this bonus notebook will focus on. "
     ]
    },
    {
     "cell_type": "markdown",
     "metadata": {},
     "source": [
      "Do you feel comfortable with how we got to the RK4 Method? \n",
      "\n",
      "If so, great, let's look at a problem and start figuring out how to actually use the RK4 Method. "
     ]
    },
    {
     "cell_type": "heading",
     "level": 3,
     "metadata": {},
     "source": [
      "The Problem: "
     ]
    },
    {
     "cell_type": "markdown",
     "metadata": {},
     "source": [
      "We will look at a damped pendulum oscillating according to the following equation using a fourth-order Runge-Kutta method."
     ]
    },
    {
     "cell_type": "markdown",
     "metadata": {},
     "source": [
      "Equation of Motion: \\theta_{dot} = -\\mu*\\omega+mgl\\sin\\theta + \\frac{u}{ml^{2}}"
     ]
    },
    {
     "cell_type": "heading",
     "level": 3,
     "metadata": {},
     "source": [
      "The Approach: "
     ]
    },
    {
     "cell_type": "markdown",
     "metadata": {},
     "source": [
      "First, we must remember to load in our libraries and modules that we will use.  Recall that rcParams are some of the automatic plotting formats that we have access to.  "
     ]
    },
    {
     "cell_type": "code",
     "collapsed": false,
     "input": [
      "import math \n",
      "import numpy as np\n",
      "from numpy import *\n",
      "import matplotlib.pyplot as plt\n",
      "%matplotlib inline\n",
      "from matplotlib import rcParams\n",
      "rcParams['font.family'] = 'serif'\n",
      "rcParams['font.size'] = 16"
     ],
     "language": "python",
     "metadata": {},
     "outputs": [],
     "prompt_number": 1
    },
    {
     "cell_type": "markdown",
     "metadata": {},
     "source": [
      "Next, we set up the problem by listing the model parameters. In this case, we will look at the pendulum for 40 seconds at dt=0.05. The pendulum has a mass of 1.0g, and length of 1.0m, a coefficient of friction of 0.1, 0 torque, and we will consider the acceleration due to gravity to be 9.81 \\frac{m}{s^{2}}."
     ]
    },
    {
     "cell_type": "code",
     "collapsed": false,
     "input": [
      "# model parameters \n",
      "\n",
      "dt = 0.05      # dt \n",
      "t = 40.        # time \n",
      "n = int(t/dt)  # number of time-steps\n",
      "\n",
      "m = 1.0        # mass [g]\n",
      "g = 9.8        # acceleration due to gravity [m/s^2]\n",
      "l = 1.0        # length of pendulum [m]\n",
      "mu = 0.1       # coefficient of friction\n",
      "u = 0          # torque"
     ],
     "language": "python",
     "metadata": {},
     "outputs": [],
     "prompt_number": 2
    },
    {
     "cell_type": "markdown",
     "metadata": {},
     "source": [
      "We need to start with empty arrays for our theta and omega values to fill into. "
     ]
    },
    {
     "cell_type": "code",
     "collapsed": false,
     "input": [
      "X = (pi/4., 0)\n",
      "theta = np.empty(n)\n",
      "theta[0] = pi/4\n",
      "omega = np.empty(n)\n",
      "omega[0] = 0   # frequency of oscillation"
     ],
     "language": "python",
     "metadata": {},
     "outputs": [],
     "prompt_number": 3
    },
    {
     "cell_type": "markdown",
     "metadata": {},
     "source": [
      "Our equation of motion or EOM is definined next as a function. It is important to define the EOM as a function so each value can be called through the EOM at each time-step. "
     ]
    },
    {
     "cell_type": "code",
     "collapsed": false,
     "input": [
      "def EOM(t, X):\n",
      "      \n",
      "    theta = X[0]\n",
      "    omega = X[1]\n",
      "    \n",
      "    omega_dot = -mu*omega+m*g*l*sin(theta)+u/(m*(l**2.))\n",
      "       \n",
      "    Xdot = np.empty(2)\n",
      "\n",
      "    Xdot[0] = omega\n",
      "    Xdot[1] = omega_dot\n",
      "    \n",
      "    return (Xdot)"
     ],
     "language": "python",
     "metadata": {},
     "outputs": [],
     "prompt_number": 4
    },
    {
     "cell_type": "markdown",
     "metadata": {},
     "source": [
      "The function will return Xdot which are arrays of omega values and omega_dot values which we will use in just a bit! "
     ]
    },
    {
     "cell_type": "markdown",
     "metadata": {},
     "source": [
      "Now comes the slightly tricky part of a fourth-order method, what do you do with all those extra k values we mentioned earler??\n",
      "\n",
      "Luckily for us, Python lets us have as many variables as we want, but the point of coding is to simplify problems not create more things for our brains to keep track of, so how can we update only the variables we want through each time-step....? \n",
      "\n",
      "Did you guess a 'for' loop? If you did, you're absolutely correct! 'For' loops are our best friends for simplyfing and iterating through tricky changing equations. "
     ]
    },
    {
     "cell_type": "code",
     "collapsed": false,
     "input": [
      "for i in range(n-1):\n",
      "    \n",
      "    t = dt*i\n",
      "    k0 = dt*EOM(t,X)\n",
      "    k1 = dt*EOM(t + dt/2., X + k0/2.)\n",
      "    k2 = dt*EOM(t + dt/2., X + k1/2.)\n",
      "    k3 = dt*EOM(t + dt, X + k2)\n",
      "    \n",
      "    X = X + (k0 + 2.*k1 + 2.*k2 + k3)/6.\n",
      "    theta[i+1] = X[0]\n",
      "    omega[i+1] = X[1]"
     ],
     "language": "python",
     "metadata": {},
     "outputs": [],
     "prompt_number": 5
    },
    {
     "cell_type": "markdown",
     "metadata": {},
     "source": [
      "Notice that our first k value is listed as k0 in our code.  This is because Python starts indexing at 0! \n",
      "\n",
      "This 'for' loop really demonstrates how amazing being able to code really is - can you imaging doing fourth-order Runge-Kutta iterations by hand?! Our seemingly short and small 'for' loop is more powerful than any of us with a pencil and notebook because our Python 'for' loop will run through what would take us a long time in just seconds. "
     ]
    },
    {
     "cell_type": "markdown",
     "metadata": {},
     "source": [
      "We will now plot the fourth-order Runge-Kutta approximation results for theta and omega values. We anticipate the results to look like a sine wave that has been damped (meaning the amplitude decreases as the systems oscillations reduce and the system tries to go back to equilibrium) since it is a damped pendulum.  "
     ]
    },
    {
     "cell_type": "heading",
     "level": 3,
     "metadata": {},
     "source": [
      "Let's see if the results look like something we would expect!"
     ]
    },
    {
     "cell_type": "code",
     "collapsed": false,
     "input": [
      "# Plotting Pendulum RK4 Results\n",
      "subplot(211),plot(theta), xlabel('Angle'),ylabel('')\n",
      "subplot(212),plot(omega,'r'),ylabel('')\n",
      "show()"
     ],
     "language": "python",
     "metadata": {},
     "outputs": [
      {
       "metadata": {},
       "output_type": "display_data",
       "png": "[encoded data removed]",
       "text": [
        "<matplotlib.figure.Figure at 0x7f3962eeb790>"
       ]
      }
     ],
     "prompt_number": 6
    },
    {
     "cell_type": "heading",
     "level": 5,
     "metadata": {},
     "source": [
      "They do, congratulations! \n",
      "\n",
      "Now, play around with the model parameters to see how the pendulum motion is affected. "
     ]
    },
    {
     "cell_type": "heading",
     "level": 3,
     "metadata": {},
     "source": [
      "Refrences"
     ]
    },
    {
     "cell_type": "markdown",
     "metadata": {},
     "source": [
      "1. Barba, Lorena A., et al. \"MAE 6286 Practical Numerical Methods with Python,\" GW Open edX, The George Washington University, 2014. http://openedx.seas.gwu.edu/courses/GW/MAE6286/2014_fall/about. \n",
      "2. Campbell, S. A., et al. \"Friction and the Inverted Pendulum Stabilization Problem,\" http://www.math.uwaterloo.ca/~kmorris/Preprints/ipfric.pdf.\n",
      "Martin, R. \"The Damped Pendulum,\" PHY 380.03, Fall 2013. http://www2.phy.ilstu.edu/~rfm/380s13/chapters/CH2.4_Pendulum.pdf.\n",
      "3. Canale, R. and Chapra, S. Numerical Methods for Engineers, 6th edition, McGraw-Hill, 2009. \n",
      "4. Conte, S.D. and Boor, C., Elementary Numerical Analysis, 2nd edition, McGraw-Hill, 1972. \n",
      "5. \"Runge Kutta 4th Order Method: Formulas.\" YouTube. YouTube - Numericalmethodsguy, 1 April 2009, https://www.youtube.com/watch?v=hGN54bkE8Ac.\n"
     ]
    },
    {
     "cell_type": "code",
     "collapsed": false,
     "input": [
      "from IPython.core.display import HTML\n",
      "css_file = 'C:/Users/ehubler/numerical-mooc/styles/numericalmoocstyle.css'\n",
      "HTML(open(css_file, \"r\").read()) "
     ],
     "language": "python",
     "metadata": {},
     "outputs": [
      {
       "ename": "IOError",
       "evalue": "[Errno 2] No such file or directory: 'C:/Users/ehubler/numerical-mooc/styles/numericalmoocstyle.css'",
       "output_type": "pyerr",
       "traceback": [
        "\u001b[1;31m---------------------------------------------------------------------------\u001b[0m\n\u001b[1;31mIOError\u001b[0m                                   Traceback (most recent call last)",
        "\u001b[1;32m<ipython-input-7-4c5c038ad3f3>\u001b[0m in \u001b[0;36m<module>\u001b[1;34m()\u001b[0m\n\u001b[0;32m      1\u001b[0m \u001b[1;32mfrom\u001b[0m \u001b[0mIPython\u001b[0m\u001b[1;33m.\u001b[0m\u001b[0mcore\u001b[0m\u001b[1;33m.\u001b[0m\u001b[0mdisplay\u001b[0m \u001b[1;32mimport\u001b[0m \u001b[0mHTML\u001b[0m\u001b[1;33m\u001b[0m\u001b[0m\n\u001b[0;32m      2\u001b[0m \u001b[0mcss_file\u001b[0m \u001b[1;33m=\u001b[0m \u001b[1;34m'C:/Users/ehubler/numerical-mooc/styles/numericalmoocstyle.css'\u001b[0m\u001b[1;33m\u001b[0m\u001b[0m\n\u001b[1;32m----> 3\u001b[1;33m \u001b[0mHTML\u001b[0m\u001b[1;33m(\u001b[0m\u001b[0mopen\u001b[0m\u001b[1;33m(\u001b[0m\u001b[0mcss_file\u001b[0m\u001b[1;33m,\u001b[0m \u001b[1;34m\"r\"\u001b[0m\u001b[1;33m)\u001b[0m\u001b[1;33m.\u001b[0m\u001b[0mread\u001b[0m\u001b[1;33m(\u001b[0m\u001b[1;33m)\u001b[0m\u001b[1;33m)\u001b[0m\u001b[1;33m\u001b[0m\u001b[0m\n\u001b[0m",
        "\u001b[1;31mIOError\u001b[0m: [Errno 2] No such file or directory: 'C:/Users/ehubler/numerical-mooc/styles/numericalmoocstyle.css'"
       ]
      }
     ],
     "prompt_number": 7
    },
    {
     "cell_type": "code",
     "collapsed": false,
     "input": [],
     "language": "python",
     "metadata": {},
     "outputs": []
    }
   ],
   "metadata": {}
  }
 ]
}